{
 "cells": [
  {
   "cell_type": "code",
   "execution_count": 2,
   "metadata": {},
   "outputs": [
    {
     "name": "stdout",
     "output_type": "stream",
     "text": [
      "No mês maio alguém bateu a meta. Vendedor: Hash, Vendas: 57312\n"
     ]
    },
    {
     "ename": "TwilioRestException",
     "evalue": "HTTP 401 error: Unable to create record: Authenticate",
     "output_type": "error",
     "traceback": [
      "\u001b[1;31m---------------------------------------------------------------------------\u001b[0m",
      "\u001b[1;31mTwilioRestException\u001b[0m                       Traceback (most recent call last)",
      "\u001b[1;32mc:\\Users\\Familia ZRF\\Documents\\Faculdade ADS\\intensivão python\\001\\Untitled-1.ipynb Cell 1'\u001b[0m in \u001b[0;36m<cell line: 13>\u001b[1;34m()\u001b[0m\n\u001b[0;32m     <a href='vscode-notebook-cell:/c%3A/Users/Familia%20ZRF/Documents/Faculdade%20ADS/intensiv%C3%A3o%20python/001/Untitled-1.ipynb#ch0000000?line=16'>17</a>\u001b[0m vendas \u001b[39m=\u001b[39m tabela_vendas\u001b[39m.\u001b[39mloc[tabela_vendas[\u001b[39m'\u001b[39m\u001b[39mVendas\u001b[39m\u001b[39m'\u001b[39m] \u001b[39m>\u001b[39m \u001b[39m55000\u001b[39m, \u001b[39m'\u001b[39m\u001b[39mVendas\u001b[39m\u001b[39m'\u001b[39m]\u001b[39m.\u001b[39mvalues[\u001b[39m0\u001b[39m]\n\u001b[0;32m     <a href='vscode-notebook-cell:/c%3A/Users/Familia%20ZRF/Documents/Faculdade%20ADS/intensiv%C3%A3o%20python/001/Untitled-1.ipynb#ch0000000?line=17'>18</a>\u001b[0m \u001b[39mprint\u001b[39m(\u001b[39mf\u001b[39m\u001b[39m'\u001b[39m\u001b[39mNo mês \u001b[39m\u001b[39m{\u001b[39;00mmes\u001b[39m}\u001b[39;00m\u001b[39m alguém bateu a meta. Vendedor: \u001b[39m\u001b[39m{\u001b[39;00mvendedor\u001b[39m}\u001b[39;00m\u001b[39m, Vendas: \u001b[39m\u001b[39m{\u001b[39;00mvendas\u001b[39m}\u001b[39;00m\u001b[39m'\u001b[39m)\n\u001b[1;32m---> <a href='vscode-notebook-cell:/c%3A/Users/Familia%20ZRF/Documents/Faculdade%20ADS/intensiv%C3%A3o%20python/001/Untitled-1.ipynb#ch0000000?line=18'>19</a>\u001b[0m message \u001b[39m=\u001b[39m client\u001b[39m.\u001b[39;49mmessages\u001b[39m.\u001b[39;49mcreate(\n\u001b[0;32m     <a href='vscode-notebook-cell:/c%3A/Users/Familia%20ZRF/Documents/Faculdade%20ADS/intensiv%C3%A3o%20python/001/Untitled-1.ipynb#ch0000000?line=19'>20</a>\u001b[0m     to\u001b[39m=\u001b[39;49m\u001b[39m\"\u001b[39;49m\u001b[39m+5597984165908\u001b[39;49m\u001b[39m\"\u001b[39;49m,\n\u001b[0;32m     <a href='vscode-notebook-cell:/c%3A/Users/Familia%20ZRF/Documents/Faculdade%20ADS/intensiv%C3%A3o%20python/001/Untitled-1.ipynb#ch0000000?line=20'>21</a>\u001b[0m     from_\u001b[39m=\u001b[39;49m\u001b[39m\"\u001b[39;49m\u001b[39m+12569527451\u001b[39;49m\u001b[39m\"\u001b[39;49m,\n\u001b[0;32m     <a href='vscode-notebook-cell:/c%3A/Users/Familia%20ZRF/Documents/Faculdade%20ADS/intensiv%C3%A3o%20python/001/Untitled-1.ipynb#ch0000000?line=21'>22</a>\u001b[0m     body\u001b[39m=\u001b[39;49m\u001b[39mf\u001b[39;49m\u001b[39m'\u001b[39;49m\u001b[39mNo mês \u001b[39;49m\u001b[39m{\u001b[39;49;00mmes\u001b[39m}\u001b[39;49;00m\u001b[39m alguém bateu a meta. Vendedor: \u001b[39;49m\u001b[39m{\u001b[39;49;00mvendedor\u001b[39m}\u001b[39;49;00m\u001b[39m, Vendas: \u001b[39;49m\u001b[39m{\u001b[39;49;00mvendas\u001b[39m}\u001b[39;49;00m\u001b[39m'\u001b[39;49m)\n\u001b[0;32m     <a href='vscode-notebook-cell:/c%3A/Users/Familia%20ZRF/Documents/Faculdade%20ADS/intensiv%C3%A3o%20python/001/Untitled-1.ipynb#ch0000000?line=22'>23</a>\u001b[0m \u001b[39mprint\u001b[39m(message\u001b[39m.\u001b[39msid)\n",
      "File \u001b[1;32m~\\AppData\\Local\\Programs\\Python\\Python310\\lib\\site-packages\\twilio\\rest\\api\\v2010\\account\\message\\__init__.py:95\u001b[0m, in \u001b[0;36mMessageList.create\u001b[1;34m(self, to, status_callback, application_sid, max_price, provide_feedback, attempt, validity_period, force_delivery, content_retention, address_retention, smart_encoded, persistent_action, schedule_type, send_at, send_as_mms, from_, messaging_service_sid, body, media_url)\u001b[0m\n\u001b[0;32m     <a href='file:///c%3A/Users/Familia%20ZRF/AppData/Local/Programs/Python/Python310/lib/site-packages/twilio/rest/api/v2010/account/message/__init__.py?line=46'>47</a>\u001b[0m \u001b[39m\"\"\"\u001b[39;00m\n\u001b[0;32m     <a href='file:///c%3A/Users/Familia%20ZRF/AppData/Local/Programs/Python/Python310/lib/site-packages/twilio/rest/api/v2010/account/message/__init__.py?line=47'>48</a>\u001b[0m \u001b[39mCreate the MessageInstance\u001b[39;00m\n\u001b[0;32m     <a href='file:///c%3A/Users/Familia%20ZRF/AppData/Local/Programs/Python/Python310/lib/site-packages/twilio/rest/api/v2010/account/message/__init__.py?line=48'>49</a>\u001b[0m \n\u001b[1;32m   (...)\u001b[0m\n\u001b[0;32m     <a href='file:///c%3A/Users/Familia%20ZRF/AppData/Local/Programs/Python/Python310/lib/site-packages/twilio/rest/api/v2010/account/message/__init__.py?line=70'>71</a>\u001b[0m \u001b[39m:rtype: twilio.rest.api.v2010.account.message.MessageInstance\u001b[39;00m\n\u001b[0;32m     <a href='file:///c%3A/Users/Familia%20ZRF/AppData/Local/Programs/Python/Python310/lib/site-packages/twilio/rest/api/v2010/account/message/__init__.py?line=71'>72</a>\u001b[0m \u001b[39m\"\"\"\u001b[39;00m\n\u001b[0;32m     <a href='file:///c%3A/Users/Familia%20ZRF/AppData/Local/Programs/Python/Python310/lib/site-packages/twilio/rest/api/v2010/account/message/__init__.py?line=72'>73</a>\u001b[0m data \u001b[39m=\u001b[39m values\u001b[39m.\u001b[39mof({\n\u001b[0;32m     <a href='file:///c%3A/Users/Familia%20ZRF/AppData/Local/Programs/Python/Python310/lib/site-packages/twilio/rest/api/v2010/account/message/__init__.py?line=73'>74</a>\u001b[0m     \u001b[39m'\u001b[39m\u001b[39mTo\u001b[39m\u001b[39m'\u001b[39m: to,\n\u001b[0;32m     <a href='file:///c%3A/Users/Familia%20ZRF/AppData/Local/Programs/Python/Python310/lib/site-packages/twilio/rest/api/v2010/account/message/__init__.py?line=74'>75</a>\u001b[0m     \u001b[39m'\u001b[39m\u001b[39mFrom\u001b[39m\u001b[39m'\u001b[39m: from_,\n\u001b[1;32m   (...)\u001b[0m\n\u001b[0;32m     <a href='file:///c%3A/Users/Familia%20ZRF/AppData/Local/Programs/Python/Python310/lib/site-packages/twilio/rest/api/v2010/account/message/__init__.py?line=91'>92</a>\u001b[0m     \u001b[39m'\u001b[39m\u001b[39mSendAsMms\u001b[39m\u001b[39m'\u001b[39m: send_as_mms,\n\u001b[0;32m     <a href='file:///c%3A/Users/Familia%20ZRF/AppData/Local/Programs/Python/Python310/lib/site-packages/twilio/rest/api/v2010/account/message/__init__.py?line=92'>93</a>\u001b[0m })\n\u001b[1;32m---> <a href='file:///c%3A/Users/Familia%20ZRF/AppData/Local/Programs/Python/Python310/lib/site-packages/twilio/rest/api/v2010/account/message/__init__.py?line=94'>95</a>\u001b[0m payload \u001b[39m=\u001b[39m \u001b[39mself\u001b[39;49m\u001b[39m.\u001b[39;49m_version\u001b[39m.\u001b[39;49mcreate(method\u001b[39m=\u001b[39;49m\u001b[39m'\u001b[39;49m\u001b[39mPOST\u001b[39;49m\u001b[39m'\u001b[39;49m, uri\u001b[39m=\u001b[39;49m\u001b[39mself\u001b[39;49m\u001b[39m.\u001b[39;49m_uri, data\u001b[39m=\u001b[39;49mdata, )\n\u001b[0;32m     <a href='file:///c%3A/Users/Familia%20ZRF/AppData/Local/Programs/Python/Python310/lib/site-packages/twilio/rest/api/v2010/account/message/__init__.py?line=96'>97</a>\u001b[0m \u001b[39mreturn\u001b[39;00m MessageInstance(\u001b[39mself\u001b[39m\u001b[39m.\u001b[39m_version, payload, account_sid\u001b[39m=\u001b[39m\u001b[39mself\u001b[39m\u001b[39m.\u001b[39m_solution[\u001b[39m'\u001b[39m\u001b[39maccount_sid\u001b[39m\u001b[39m'\u001b[39m], )\n",
      "File \u001b[1;32m~\\AppData\\Local\\Programs\\Python\\Python310\\lib\\site-packages\\twilio\\base\\version.py:205\u001b[0m, in \u001b[0;36mVersion.create\u001b[1;34m(self, method, uri, params, data, headers, auth, timeout, allow_redirects)\u001b[0m\n\u001b[0;32m    <a href='file:///c%3A/Users/Familia%20ZRF/AppData/Local/Programs/Python/Python310/lib/site-packages/twilio/base/version.py?line=192'>193</a>\u001b[0m response \u001b[39m=\u001b[39m \u001b[39mself\u001b[39m\u001b[39m.\u001b[39mrequest(\n\u001b[0;32m    <a href='file:///c%3A/Users/Familia%20ZRF/AppData/Local/Programs/Python/Python310/lib/site-packages/twilio/base/version.py?line=193'>194</a>\u001b[0m     method,\n\u001b[0;32m    <a href='file:///c%3A/Users/Familia%20ZRF/AppData/Local/Programs/Python/Python310/lib/site-packages/twilio/base/version.py?line=194'>195</a>\u001b[0m     uri,\n\u001b[1;32m   (...)\u001b[0m\n\u001b[0;32m    <a href='file:///c%3A/Users/Familia%20ZRF/AppData/Local/Programs/Python/Python310/lib/site-packages/twilio/base/version.py?line=200'>201</a>\u001b[0m     allow_redirects\u001b[39m=\u001b[39mallow_redirects,\n\u001b[0;32m    <a href='file:///c%3A/Users/Familia%20ZRF/AppData/Local/Programs/Python/Python310/lib/site-packages/twilio/base/version.py?line=201'>202</a>\u001b[0m )\n\u001b[0;32m    <a href='file:///c%3A/Users/Familia%20ZRF/AppData/Local/Programs/Python/Python310/lib/site-packages/twilio/base/version.py?line=203'>204</a>\u001b[0m \u001b[39mif\u001b[39;00m response\u001b[39m.\u001b[39mstatus_code \u001b[39m<\u001b[39m \u001b[39m200\u001b[39m \u001b[39mor\u001b[39;00m response\u001b[39m.\u001b[39mstatus_code \u001b[39m>\u001b[39m\u001b[39m=\u001b[39m \u001b[39m300\u001b[39m:\n\u001b[1;32m--> <a href='file:///c%3A/Users/Familia%20ZRF/AppData/Local/Programs/Python/Python310/lib/site-packages/twilio/base/version.py?line=204'>205</a>\u001b[0m     \u001b[39mraise\u001b[39;00m \u001b[39mself\u001b[39m\u001b[39m.\u001b[39mexception(method, uri, response, \u001b[39m'\u001b[39m\u001b[39mUnable to create record\u001b[39m\u001b[39m'\u001b[39m)\n\u001b[0;32m    <a href='file:///c%3A/Users/Familia%20ZRF/AppData/Local/Programs/Python/Python310/lib/site-packages/twilio/base/version.py?line=206'>207</a>\u001b[0m \u001b[39mreturn\u001b[39;00m json\u001b[39m.\u001b[39mloads(response\u001b[39m.\u001b[39mtext)\n",
      "\u001b[1;31mTwilioRestException\u001b[0m: HTTP 401 error: Unable to create record: Authenticate"
     ]
    }
   ],
   "source": [
    "import pandas as pd\n",
    "import twilio\n",
    "from twilio.rest import Client\n",
    "\n",
    "# Your Account SID from twilio.com/console\n",
    "account_sid = \"AC2628af3ef76cd40c0089afb9bfa8d7bf\"\n",
    "# Your Auth Token from twilio.com/console\n",
    "auth_token  = \"efcf79aafdb10f0a995188d8825be60d\"\n",
    "client = Client(account_sid, auth_token)\n",
    "\n",
    "# Abrir os 6 arquivos em Excel\n",
    "lista_meses = ['janeiro', 'fevereiro', 'março', 'abril', 'maio', 'junho']\n",
    "\n",
    "for mes in lista_meses:\n",
    "    tabela_vendas = pd.read_excel(f'{mes}.xlsx')\n",
    "    if (tabela_vendas['Vendas'] > 55000).any():\n",
    "        vendedor = tabela_vendas.loc[tabela_vendas['Vendas'] > 55000, 'Vendedor'].values[0]\n",
    "        vendas = tabela_vendas.loc[tabela_vendas['Vendas'] > 55000, 'Vendas'].values[0]\n",
    "        print(f'No mês {mes} alguém bateu a meta. Vendedor: {vendedor}, Vendas: {vendas}')\n",
    "        message = client.messages.create(\n",
    "            to=\"+5597984165908\",\n",
    "            from_=\"+12569527451\",\n",
    "            body=f'No mês {mes} alguém bateu a meta. Vendedor: {vendedor}, Vendas: {vendas}')\n",
    "            \n",
    "        print(message.sid)"
   ]
  },
  {
   "cell_type": "code",
   "execution_count": 1,
   "metadata": {},
   "outputs": [
    {
     "ename": "NameError",
     "evalue": "name 'pd' is not defined",
     "output_type": "error",
     "traceback": [
      "\u001b[1;31m---------------------------------------------------------------------------\u001b[0m",
      "\u001b[1;31mNameError\u001b[0m                                 Traceback (most recent call last)",
      "\u001b[1;32mc:\\Users\\Familia ZRF\\Documents\\Faculdade ADS\\intensivão python\\001\\Untitled-1.ipynb Cell 2'\u001b[0m in \u001b[0;36m<cell line: 1>\u001b[1;34m()\u001b[0m\n\u001b[1;32m----> <a href='vscode-notebook-cell:/c%3A/Users/Familia%20ZRF/Documents/Faculdade%20ADS/intensiv%C3%A3o%20python/001/Untitled-1.ipynb#ch0000001?line=0'>1</a>\u001b[0m tabela \u001b[39m=\u001b[39m pd\u001b[39m.\u001b[39mread_excel(\u001b[39m\"\u001b[39m\u001b[39mjaneiro.xlsl\u001b[39m\u001b[39m\"\u001b[39m)\n\u001b[0;32m      <a href='vscode-notebook-cell:/c%3A/Users/Familia%20ZRF/Documents/Faculdade%20ADS/intensiv%C3%A3o%20python/001/Untitled-1.ipynb#ch0000001?line=1'>2</a>\u001b[0m \u001b[39mprint\u001b[39m(tabela_vendas)\n",
      "\u001b[1;31mNameError\u001b[0m: name 'pd' is not defined"
     ]
    }
   ],
   "source": [
    "tabela = pd.read_excel(\"janeiro.xlsl\")\n",
    "print(tabela_vendas)"
   ]
  }
 ],
 "metadata": {
  "interpreter": {
   "hash": "148c5d1ac68b7216222256fe739d3fb7a394657546f7db40bfcadd5c1589a3d8"
  },
  "kernelspec": {
   "display_name": "Python 3.10.2 64-bit",
   "language": "python",
   "name": "python3"
  },
  "language_info": {
   "codemirror_mode": {
    "name": "ipython",
    "version": 3
   },
   "file_extension": ".py",
   "mimetype": "text/x-python",
   "name": "python",
   "nbconvert_exporter": "python",
   "pygments_lexer": "ipython3",
   "version": "3.10.2"
  },
  "orig_nbformat": 4
 },
 "nbformat": 4,
 "nbformat_minor": 2
}
